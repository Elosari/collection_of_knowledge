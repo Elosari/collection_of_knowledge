{
 "cells": [
  {
   "cell_type": "code",
   "execution_count": 1,
   "metadata": {},
   "outputs": [
    {
     "name": "stdout",
     "output_type": "stream",
     "text": [
      "Version 3.9.18\n",
      "ENV mnist\n",
      "c:\\Users\\marce\\OneDrive\\IT_Projekte\\JupyterLabProjekte\\GlobalFolder\\Python-JupyterNotebooks\\MNIST\n"
     ]
    }
   ],
   "source": [
    "# Python Version check\n",
    "from platform import python_version\n",
    "print(\"Version \" + python_version())\n",
    "\n",
    "# Environment check\n",
    "import os\n",
    "print (\"ENV \" + os.environ['CONDA_DEFAULT_ENV'])\n",
    "\n",
    "# All Libs\n",
    "import numpy as np\n",
    "import pandas as pd \n",
    "\n",
    "from pathlib import Path \n",
    "import matplotlib.pyplot as plt\n",
    "\n",
    "# Create folder for test.CSV\n",
    "#pfad = Path('./temp')\n",
    "#if os.path.exists(pfad):\n",
    "#    print(\"./temp exists\")\n",
    "#else: \n",
    "#    pfad.mkdir(parents=True, exist_ok=True)\n",
    "\n",
    "# JupyterBook Path (should be inside the \"ED_Danish_Health_Authorities\" folder)\n",
    "print(Path.cwd())"
   ]
  },
  {
   "cell_type": "markdown",
   "metadata": {},
   "source": [
    "Daten sind in C:\\zProgrammieren\\DatenFurKi\\MNIST_Curse "
   ]
  }
 ],
 "metadata": {
  "kernelspec": {
   "display_name": "PythonTutorialKurs",
   "language": "python",
   "name": "python3"
  },
  "language_info": {
   "codemirror_mode": {
    "name": "ipython",
    "version": 3
   },
   "file_extension": ".py",
   "mimetype": "text/x-python",
   "name": "python",
   "nbconvert_exporter": "python",
   "pygments_lexer": "ipython3",
   "version": "3.9.18"
  }
 },
 "nbformat": 4,
 "nbformat_minor": 2
}
