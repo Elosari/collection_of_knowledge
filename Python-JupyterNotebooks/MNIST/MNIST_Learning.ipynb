{
 "cells": [
  {
   "cell_type": "code",
   "execution_count": 1,
   "metadata": {},
   "outputs": [
    {
     "name": "stdout",
     "output_type": "stream",
     "text": [
      "Version 3.9.18\n",
      "ENV mnist\n"
     ]
    },
    {
     "name": "stderr",
     "output_type": "stream",
     "text": [
      "WARNING (theano.tensor.blas): Using NumPy C-API based implementation for BLAS functions.\n"
     ]
    },
    {
     "name": "stdout",
     "output_type": "stream",
     "text": [
      "c:\\Users\\marce\\OneDrive\\IT_Projekte\\JupyterLabProjekte\\GlobalFolder\\Python-JupyterNotebooks\\MNIST\n"
     ]
    }
   ],
   "source": [
    "# Python Version check\n",
    "from platform import python_version\n",
    "print(\"Version \" + python_version())\n",
    "\n",
    "# Environment check\n",
    "import os\n",
    "print (\"ENV \" + os.environ['CONDA_DEFAULT_ENV'])\n",
    "\n",
    "# All Libs\n",
    "# Standard library\n",
    "import pickle\n",
    "import gzip\n",
    "\n",
    "# Third-party libraries\n",
    "from pathlib import Path \n",
    "import numpy as np\n",
    "import theano\n",
    "import theano.tensor as T\n",
    "from theano.tensor.nnet import conv\n",
    "from theano.tensor.nnet import softmax\n",
    "from theano.tensor import shared_randomstreams\n",
    "from theano.tensor.signal.pool import pool_2d\n",
    "\n",
    "# Create folder for test.CSV\n",
    "#pfad = Path('./temp')\n",
    "#if os.path.exists(pfad):\n",
    "#    print(\"./temp exists\")\n",
    "#else: \n",
    "#    pfad.mkdir(parents=True, exist_ok=True)\n",
    "\n",
    "# JupyterBook Path (should be inside the \"ED_Danish_Health_Authorities\" folder)\n",
    "print(Path.cwd())"
   ]
  },
  {
   "cell_type": "markdown",
   "metadata": {},
   "source": [
    "Netz 1"
   ]
  },
  {
   "cell_type": "code",
   "execution_count": 2,
   "metadata": {},
   "outputs": [],
   "source": [
    "from src import mnist_loader\n",
    "training_data, validation_data, test_data = mnist_loader.load_data_wrapper()\n",
    "training_data = list(training_data)"
   ]
  },
  {
   "cell_type": "code",
   "execution_count": 3,
   "metadata": {},
   "outputs": [
    {
     "name": "stdout",
     "output_type": "stream",
     "text": [
      "Epoch 0 : 9063 / 10000\n",
      "Epoch 1 : 9236 / 10000\n",
      "Epoch 2 : 9286 / 10000\n",
      "Epoch 3 : 9291 / 10000\n",
      "Epoch 4 : 9340 / 10000\n",
      "Epoch 5 : 9372 / 10000\n",
      "Epoch 6 : 9377 / 10000\n",
      "Epoch 7 : 9365 / 10000\n",
      "Epoch 8 : 9380 / 10000\n",
      "Epoch 9 : 9370 / 10000\n",
      "Epoch 10 : 9371 / 10000\n",
      "Epoch 11 : 9435 / 10000\n",
      "Epoch 12 : 9417 / 10000\n",
      "Epoch 13 : 9430 / 10000\n",
      "Epoch 14 : 9451 / 10000\n",
      "Epoch 15 : 9431 / 10000\n",
      "Epoch 16 : 9443 / 10000\n",
      "Epoch 17 : 9438 / 10000\n",
      "Epoch 18 : 9435 / 10000\n",
      "Epoch 19 : 9444 / 10000\n",
      "Epoch 20 : 9469 / 10000\n",
      "Epoch 21 : 9423 / 10000\n",
      "Epoch 22 : 9462 / 10000\n",
      "Epoch 23 : 9441 / 10000\n",
      "Epoch 24 : 9414 / 10000\n",
      "Epoch 25 : 9446 / 10000\n",
      "Epoch 26 : 9449 / 10000\n",
      "Epoch 27 : 9464 / 10000\n",
      "Epoch 28 : 9477 / 10000\n",
      "Epoch 29 : 9453 / 10000\n"
     ]
    }
   ],
   "source": [
    "from src import network\n",
    "net = network.Network([784, 30, 10])\n",
    "net.SGD(training_data, 30, 10, 3, test_data=test_data)\n",
    "# Das Transkript zeigt die Anzahl der vom neuronalen Netzwerk korrekt erkannten Testbilder \n",
    "# nach jeder Trainingsepoche. \n",
    "# nach einer einzigen Epoche 9.123 von 10.000"
   ]
  },
  {
   "cell_type": "code",
   "execution_count": 4,
   "metadata": {},
   "outputs": [
    {
     "data": {
      "text/plain": [
       "0.947"
      ]
     },
     "execution_count": 4,
     "metadata": {},
     "output_type": "execute_result"
    }
   ],
   "source": [
    "9449 / 10000\n",
    "9470 / 10000"
   ]
  }
 ],
 "metadata": {
  "kernelspec": {
   "display_name": "PythonTutorialKurs",
   "language": "python",
   "name": "python3"
  },
  "language_info": {
   "codemirror_mode": {
    "name": "ipython",
    "version": 3
   },
   "file_extension": ".py",
   "mimetype": "text/x-python",
   "name": "python",
   "nbconvert_exporter": "python",
   "pygments_lexer": "ipython3",
   "version": "3.9.18"
  }
 },
 "nbformat": 4,
 "nbformat_minor": 2
}
